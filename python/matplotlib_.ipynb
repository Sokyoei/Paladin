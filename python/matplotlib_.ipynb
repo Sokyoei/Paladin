{
 "cells": [
  {
   "cell_type": "markdown",
   "id": "cc87b2890c876f74",
   "metadata": {
    "collapsed": false
   },
   "source": [
    "# [Matplotlib](https://matplotlib.org/)"
   ]
  },
  {
   "cell_type": "code",
   "execution_count": null,
   "outputs": [],
   "source": [
    "import matplotlib.pyplot as plt\n",
    "import numpy as np\n",
    "from matplotlib.axes import Axes\n",
    "\n",
    "plt.rcParams['font.sans-serif'] = ['SimHei']  # 显示中文\n",
    "plt.rcParams['axes.unicode_minus'] = False  # 负号显示问题"
   ],
   "metadata": {
    "collapsed": false
   },
   "id": "initial_id"
  },
  {
   "cell_type": "markdown",
   "id": "454fdb7d97e76d88",
   "metadata": {
    "collapsed": false
   },
   "source": [
    "## 折线图"
   ]
  },
  {
   "cell_type": "code",
   "execution_count": null,
   "id": "54f7677402cd85bd",
   "metadata": {
    "collapsed": false
   },
   "outputs": [],
   "source": [
    "x = np.linspace(0, 2 * np.pi, num=100)\n",
    "y1 = np.cos(x)\n",
    "y2 = np.sin(x)\n",
    "\n",
    "fig = plt.figure(figsize=(10, 8))\n",
    "ax: Axes = fig.add_subplot(111)\n",
    "ax.plot(x, y1, label=\"cos(x)\", color=\"r\")\n",
    "ax.plot(x, y2, label=\"sin(x)\", color=\"b\")\n",
    "ax.set_title(\"sin(x) and cos(x)\")\n",
    "ax.set_xlabel(\"X\")\n",
    "ax.set_ylabel(\"Y\")\n",
    "ax.legend(loc=\"lower right\")\n",
    "plt.show()"
   ]
  },
  {
   "cell_type": "markdown",
   "id": "bdcd7dbd52bb7edc",
   "metadata": {
    "collapsed": false
   },
   "source": [
    "## 柱状图"
   ]
  },
  {
   "cell_type": "code",
   "execution_count": null,
   "id": "a37fa2fd2140243b",
   "metadata": {
    "collapsed": false
   },
   "outputs": [],
   "source": [
    "names = [\"Ahri\", \"Sokyoei\", \"Nono\"]\n",
    "scores = [3.2, 4, 5]\n",
    "\n",
    "fig = plt.figure(figsize=(10, 8))\n",
    "ax: Axes = fig.add_subplot(111)\n",
    "ax.set_title(\"柱状图\")\n",
    "ax.bar(names, scores)\n",
    "plt.show()"
   ]
  }
 ],
 "metadata": {
  "kernelspec": {
   "display_name": "Python 3",
   "language": "python",
   "name": "python3"
  },
  "language_info": {
   "codemirror_mode": {
    "name": "ipython",
    "version": 3
   },
   "file_extension": ".py",
   "mimetype": "text/x-python",
   "name": "python",
   "nbconvert_exporter": "python",
   "pygments_lexer": "ipython3",
   "version": "3.9.18"
  }
 },
 "nbformat": 4,
 "nbformat_minor": 5
}
