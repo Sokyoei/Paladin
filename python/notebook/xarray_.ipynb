{
 "cells": [
  {
   "cell_type": "markdown",
   "id": "9610c4c315aa1620",
   "metadata": {
    "collapsed": false
   },
   "source": [
    "# [Xarray](https://xarray.dev/)"
   ]
  },
  {
   "cell_type": "code",
   "execution_count": null,
   "id": "initial_id",
   "metadata": {
    "collapsed": true
   },
   "outputs": [],
   "source": [
    "from pathlib import Path\n",
    "\n",
    "import cartopy\n",
    "import xarray as xr"
   ]
  },
  {
   "cell_type": "code",
   "execution_count": null,
   "id": "49089fe7c1060968",
   "metadata": {
    "collapsed": false
   },
   "outputs": [],
   "source": [
    "file_path = Path(cartopy.__file__).parent / \"data/netcdf/HadISST1_SST_update.nc\"\n",
    "\n",
    "nc = xr.open_dataset(file_path)\n",
    "print(nc)\n",
    "\n",
    "nc_data_array = xr.open_dataarray(file_path, drop_variables=[\"time_bnds\"])\n",
    "print(nc_data_array)"
   ]
  }
 ],
 "metadata": {
  "kernelspec": {
   "display_name": "Python 3",
   "language": "python",
   "name": "python3"
  },
  "language_info": {
   "codemirror_mode": {
    "name": "ipython",
    "version": 2
   },
   "file_extension": ".py",
   "mimetype": "text/x-python",
   "name": "python",
   "nbconvert_exporter": "python",
   "pygments_lexer": "ipython2",
   "version": "3.9.18"
  }
 },
 "nbformat": 4,
 "nbformat_minor": 5
}
