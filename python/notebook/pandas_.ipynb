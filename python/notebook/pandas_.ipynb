{
 "cells": [
  {
   "cell_type": "markdown",
   "source": [
    "# [pandas](https://pandas.pydata.org/)"
   ],
   "metadata": {
    "collapsed": false
   },
   "id": "9dba254852ee7100"
  },
  {
   "cell_type": "code",
   "execution_count": null,
   "outputs": [],
   "source": [
    "import numpy as np\n",
    "import pandas as pd"
   ],
   "metadata": {
    "collapsed": false
   },
   "id": "initial_id"
  },
  {
   "cell_type": "code",
   "execution_count": null,
   "outputs": [],
   "source": [
    "csv = pd.read_csv(\"../../data/原神/原神.csv\")\n",
    "print(csv)"
   ],
   "metadata": {
    "collapsed": false
   },
   "id": "5f1622b5c48e30c"
  },
  {
   "cell_type": "markdown",
   "source": [
    "## DataFrame"
   ],
   "metadata": {
    "collapsed": false
   },
   "id": "d0af18631cc06489"
  },
  {
   "cell_type": "code",
   "execution_count": null,
   "outputs": [],
   "source": [
    "data = pd.DataFrame(\n",
    "    columns=[\"id\", \"datetime\", \"math\", \"chinese\", \"english\"],\n",
    "    data=[\n",
    "        [1, 2024031209, 100, np.nan, 100],\n",
    "        [2, 2024031313, 74, 89, np.nan]\n",
    "    ],\n",
    ")\n",
    "data[\"datetime\"] = pd.to_datetime(data[\"datetime\"], format=\"%Y%m%d%H\")\n",
    "print(data)"
   ],
   "metadata": {
    "collapsed": false
   },
   "id": "852b62a8a5352c5b"
  },
  {
   "cell_type": "markdown",
   "source": [
    "### groupby()「分组」 和 agg()「聚合」"
   ],
   "metadata": {
    "collapsed": false
   },
   "id": "8a780f733f62c2e9"
  },
  {
   "cell_type": "code",
   "execution_count": null,
   "outputs": [],
   "source": [
    "gdas = pd.DataFrame(\n",
    "    columns=[\"ID\", \"Lon\", \"Lat\", \"DateTime\", \"P\", \"Q\", \"T\", \"U\", \"V\"],\n",
    "    data=[\n",
    "        [\"01001\", 351.3310, 70.9394, \"2024031821\", 1005.5, np.nan, np.nan, 1.4, -8.7],\n",
    "        [\"01001\", 351.3310, 70.9394, \"2024031821\", 1005.5, 2221.0, -2.1, np.nan, np.nan],\n",
    "        [\"01001\", 351.3310, 70.9394, \"2024031822\", 1005.4, np.nan, np.nan, 1.5, -7.7],\n",
    "        [\"01001\", 351.3310, 70.9394, \"2024031822\", 1005.4, 2399.0, -1.5, np.nan, np.nan],\n",
    "        [\"01001\", 351.3310, 70.9394, \"2024031823\", 1004.5, np.nan, np.nan, 3.6, -8.1],\n",
    "        [\"01001\", 351.3310, 70.9394, \"2024031823\", 1004.5, 2534.0, -0.6, np.nan, np.nan],\n",
    "        [\"01001\", 351.3310, 70.9394, \"2024031900\", 1004.2, np.nan, np.nan, 3.8, -6.7],\n",
    "        [\"01001\", 351.3310, 70.9394, \"2024031900\", 1004.2, 2515.0, -1.1, np.nan, np.nan],\n",
    "        [\"01001\", 351.3310, 70.9394, \"2024031901\", 1003.8, np.nan, np.nan, 3.5, -6.6],\n",
    "        [\"01001\", 351.3310, 70.9394, \"2024031901\", 1003.8, 2497.0, 0.5, np.nan, np.nan],\n",
    "        [\"01001\", 351.3310, 70.9394, \"2024031902\", 1002.8, np.nan, np.nan, -8.8, -7.6],\n",
    "        [\"01001\", 351.3310, 70.9394, \"2024031902\", 1002.8, 2759.0, 1.9, np.nan, np.nan],\n",
    "        [\"01002\", 16.2433, 80.0555, \"2024031821\", 1021.9, np.nan, np.nan, 4.0, 5.0],\n",
    "        [\"01002\", 16.2433, 80.0555, \"2024031821\", 1021.9, 369.0, -25.1, np.nan, np.nan],\n",
    "        [\"01002\", 16.2433, 80.0555, \"2024031822\", 1022.3, np.nan, np.nan, 4.0, 5.0],\n",
    "        [\"01002\", 16.2433, 80.0555, \"2024031822\", 1022.3, 379.0, -24.9, np.nan, np.nan],\n",
    "        [\"01002\", 16.2433, 80.0555, \"2024031823\", 1022.5, np.nan, np.nan, 3.8, 4.2],\n",
    "        [\"01002\", 16.2433, 80.0555, \"2024031823\", 1022.5, 342.0, -26.0, np.nan, np.nan],\n",
    "        [\"01002\", 16.2433, 80.0555, \"2024031901\", 1022.9, np.nan, np.nan, 6.2, 0.8],\n",
    "        [\"01002\", 16.2433, 80.0555, \"2024031901\", 1022.9, 424.0, -23.6, np.nan, np.nan],\n",
    "    ],\n",
    ")\n",
    "gdas = gdas.groupby([\"ID\", \"DateTime\"]).agg(\"max\").reset_index()\n",
    "print(gdas)"
   ],
   "metadata": {
    "collapsed": false
   },
   "id": "3b18548bdf7f84f9"
  }
 ],
 "metadata": {
  "kernelspec": {
   "display_name": "Python 3",
   "language": "python",
   "name": "python3"
  },
  "language_info": {
   "codemirror_mode": {
    "name": "ipython",
    "version": 2
   },
   "file_extension": ".py",
   "mimetype": "text/x-python",
   "name": "python",
   "nbconvert_exporter": "python",
   "pygments_lexer": "ipython2",
   "version": "2.7.6"
  }
 },
 "nbformat": 4,
 "nbformat_minor": 5
}
