{
 "cells": [
  {
   "cell_type": "markdown",
   "source": [
    "# [pandas](https://pandas.pydata.org/)"
   ],
   "metadata": {
    "collapsed": false
   },
   "id": "9dba254852ee7100"
  },
  {
   "cell_type": "code",
   "execution_count": null,
   "outputs": [],
   "source": [
    "import pandas as pd"
   ],
   "metadata": {
    "collapsed": false
   },
   "id": "initial_id"
  },
  {
   "cell_type": "code",
   "execution_count": null,
   "outputs": [],
   "source": [
    "csv = pd.read_csv(\"../data/原神/原神.csv\")\n",
    "print(csv)"
   ],
   "metadata": {
    "collapsed": false
   },
   "id": "5f1622b5c48e30c"
  }
 ],
 "metadata": {
  "kernelspec": {
   "display_name": "Python 3",
   "language": "python",
   "name": "python3"
  },
  "language_info": {
   "codemirror_mode": {
    "name": "ipython",
    "version": 2
   },
   "file_extension": ".py",
   "mimetype": "text/x-python",
   "name": "python",
   "nbconvert_exporter": "python",
   "pygments_lexer": "ipython2",
   "version": "2.7.6"
  }
 },
 "nbformat": 4,
 "nbformat_minor": 5
}
