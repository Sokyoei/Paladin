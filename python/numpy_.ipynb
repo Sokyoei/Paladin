{
 "cells": [
  {
   "cell_type": "markdown",
   "id": "e046226f6cedee60",
   "metadata": {},
   "source": [
    "# [Numpy](https://numpy.org/)"
   ]
  },
  {
   "cell_type": "code",
   "execution_count": null,
   "id": "initial_id",
   "metadata": {
    "collapsed": true,
    "is_executing": true
   },
   "outputs": [],
   "source": [
    "import numpy as np"
   ]
  },
  {
   "cell_type": "code",
   "execution_count": null,
   "id": "87974c9a8cec45de",
   "metadata": {},
   "outputs": [],
   "source": [
    "# data\n",
    "x_1d = np.arange(3)  # 1x3\n",
    "y_1d = np.array([3, 4, 5])  # 1x3\n",
    "x_2d = np.arange(12).reshape(3, 4)\n",
    "y_2d = np.array([[12, 13, 14, 15],\n",
    "                 [16, 17, 18, 19],\n",
    "                 [20, 21, 22, 23]])\n",
    "x_3d = np.arange(24).reshape((3, 4, 2))\n",
    "y_3d = np.arange(24, 48).reshape((3, 4, 2))\n",
    "x_4d = np.arange(120).reshape((3, 5, 4, 2))\n",
    "y_4d = np.arange(120, 240).reshape((3, 5, 4, 2))\n",
    "x_7d = np.arange(24).reshape((4, 6, 1, 1, 1, 1))\n",
    "\n",
    "# transpose 转置\n",
    "x_4d_t = np.transpose(x_4d)\n",
    "# x_4d_t = x_4d.T\n",
    "\n",
    "# concatenate 拼接\n",
    "xy_2d_c = np.concatenate((x_2d, y_2d), axis=1)\n",
    "xy_3d_c = np.c_[x_3d, y_3d, x_3d]  # axis=0\n",
    "xy_4d_c = np.r_[x_4d, y_4d, x_4d]  # axis=-1\n",
    "\n",
    "# stack 堆积 dim+=1\n",
    "xy_2d_s = np.stack((x_2d, y_2d), axis=0)\n",
    "\n",
    "# split 切分\n",
    "x_4d_list = np.split(x_4d, 4, axis=2)\n",
    "# x_4d_list = np.split(x_4d, [1, 3], axis=2)\n",
    "\n",
    "# squeeze 去除一维\n",
    "x_3d_sq = np.squeeze(x_7d)"
   ]
  },
  {
   "cell_type": "code",
   "execution_count": null,
   "id": "769fa942",
   "metadata": {},
   "outputs": [],
   "source": [
    "# numpy 重载 @\n",
    "x = np.arange(10).reshape(2, 5)\n",
    "y = np.arange(10).reshape(5, 2)\n",
    "z = x @ y\n",
    "z"
   ]
  }
 ],
 "metadata": {
  "kernelspec": {
   "display_name": "Python 3 (ipykernel)",
   "language": "python",
   "name": "python3"
  },
  "language_info": {
   "codemirror_mode": {
    "name": "ipython",
    "version": 3
   },
   "file_extension": ".py",
   "mimetype": "text/x-python",
   "name": "python",
   "nbconvert_exporter": "python",
   "pygments_lexer": "ipython3",
   "version": "3.9.18"
  }
 },
 "nbformat": 4,
 "nbformat_minor": 5
}
