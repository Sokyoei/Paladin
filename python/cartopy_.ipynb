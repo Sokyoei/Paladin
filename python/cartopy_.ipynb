{
 "cells": [
  {
   "cell_type": "markdown",
   "metadata": {},
   "source": [
    "# [cartopy](https://scitools.org.uk/cartopy/docs/latest/)"
   ]
  },
  {
   "cell_type": "code",
   "execution_count": null,
   "metadata": {},
   "outputs": [],
   "source": [
    "import cartopy\n",
    "import cartopy.crs as ccrs  # Coordinate Reference Systems(坐标参考系)\n",
    "import cartopy.feature as cfeature\n",
    "import matplotlib.pyplot as plt\n",
    "import numpy as np\n",
    "from cartopy.mpl.geoaxes import GeoAxes\n",
    "from cartopy.mpl.ticker import LatitudeFormatter, LongitudeFormatter\n",
    "\n",
    "plt.rcParams['font.sans-serif'] = ['SimHei']"
   ]
  },
  {
   "cell_type": "markdown",
   "metadata": {},
   "source": [
    "## 绘制不同投影"
   ]
  },
  {
   "cell_type": "code",
   "execution_count": null,
   "metadata": {},
   "outputs": [],
   "source": [
    "projections = [\n",
    "    ccrs.PlateCarree(),  # 简易圆柱投影（默认）\n",
    "    ccrs.Robinson(),\n",
    "    ccrs.Mercator(),  # 墨卡托投影（低纬度）\n",
    "    ccrs.Orthographic(),\n",
    "]\n",
    "\n",
    "fig = plt.figure()\n",
    "\n",
    "for i, proj in enumerate(projections, 1):\n",
    "    ax: GeoAxes = fig.add_subplot(2, 2, i, projection=proj)\n",
    "    ax.set_title(f\"{type(proj)}\", fontsize=\"small\")\n",
    "    ax.stock_img()\n",
    "    ax.coastlines()\n",
    "    ax.gridlines()\n",
    "plt.show()"
   ]
  },
  {
   "cell_type": "markdown",
   "metadata": {},
   "source": [
    "## 绘制世界地图"
   ]
  },
  {
   "cell_type": "code",
   "execution_count": null,
   "metadata": {},
   "outputs": [],
   "source": [
    "fig = plt.figure(figsize=(8, 10))\n",
    "ax: GeoAxes = fig.add_subplot(1, 1, 1, projection=ccrs.PlateCarree(central_longitude=180.0))\n",
    "ax.set_global()\n",
    "ax.stock_img()\n",
    "ax.coastlines()\n",
    "ax.gridlines()\n",
    "\n",
    "ax.xaxis.set_major_formatter(LongitudeFormatter(zero_direction_label=False))\n",
    "ax.yaxis.set_major_formatter(LatitudeFormatter())\n",
    "\n",
    "ax.set_xticks([0, 60, 120, 180, 240, 300, 360], crs=ccrs.PlateCarree())\n",
    "ax.set_yticks([-90, -60, -30, 0, 30, 60, 90], crs=ccrs.PlateCarree())\n",
    "plt.show()"
   ]
  },
  {
   "cell_type": "markdown",
   "metadata": {},
   "source": [
    "## 绘制中国地图"
   ]
  },
  {
   "cell_type": "code",
   "execution_count": null,
   "metadata": {},
   "outputs": [],
   "source": [
    "# 设置经纬度范围\n",
    "lon = [72, 150]\n",
    "lat = [-10, 60]\n",
    "\n",
    "fig = plt.figure()\n",
    "ax: GeoAxes = fig.add_subplot(1, 1, 1, projection=ccrs.PlateCarree())\n",
    "ax.set_extent(lon + lat, crs=ccrs.PlateCarree())  # 设置绘制范围（经纬度）\n",
    "ax.set_title(\"中国地图\")\n",
    "\n",
    "# 添加地理特征\n",
    "ax.add_feature(cfeature.LAND.with_scale(\"50m\"), lw=0.3)  # 添加陆地\n",
    "ax.add_feature(cfeature.RIVERS.with_scale(\"50m\"))  # 添加河流\n",
    "ax.add_feature(cfeature.COASTLINE.with_scale(\"50m\"))  # 添加海岸线\n",
    "ax.add_feature(cfeature.LAKES.with_scale(\"50m\"))  # 添加湖泊\n",
    "ax.add_feature(cfeature.LAND)  # 添加陆地\n",
    "ax.add_feature(cfeature.BORDERS)  # 添加国界，中国国界不全\n",
    "\n",
    "# 设置 x, y 轴的刻度\n",
    "ax.set_xticks(np.arange(*lon, 10), crs=ccrs.PlateCarree())\n",
    "ax.set_yticks(np.arange(*lat, 10), crs=ccrs.PlateCarree())\n",
    "\n",
    "# 设置经纬度格式化，让刻度显示为经纬度\n",
    "ax.xaxis.set_major_formatter(LongitudeFormatter(zero_direction_label=False))\n",
    "ax.yaxis.set_major_formatter(LatitudeFormatter())\n",
    "\n",
    "ax.stock_img()  # 添加真实地图\n",
    "ax.coastlines()  # 绘制海岸线\n",
    "ax.gridlines(linestyle=\"--\")  # 绘制网格\n",
    "plt.show()"
   ]
  },
  {
   "cell_type": "markdown",
   "metadata": {
    "collapsed": false
   },
   "source": [
    "## cartopy 配置\n",
    "\n",
    "地理数据文件下载位置"
   ]
  },
  {
   "cell_type": "code",
   "execution_count": null,
   "metadata": {
    "collapsed": false
   },
   "outputs": [],
   "source": [
    "print(cartopy.config)"
   ]
  }
 ],
 "metadata": {
  "kernelspec": {
   "display_name": "WRF",
   "language": "python",
   "name": "python3"
  },
  "language_info": {
   "codemirror_mode": {
    "name": "ipython",
    "version": 3
   },
   "file_extension": ".py",
   "mimetype": "text/x-python",
   "name": "python",
   "nbconvert_exporter": "python",
   "pygments_lexer": "ipython3",
   "version": "3.9.18"
  }
 },
 "nbformat": 4,
 "nbformat_minor": 2
}
